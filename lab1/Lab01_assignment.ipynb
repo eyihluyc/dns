{
 "cells": [
  {
   "cell_type": "markdown",
   "metadata": {},
   "source": [
    "# Lab01: Assignment\n",
    "In this assignment you're required to find whether the given numbers are prime or not using sequential and parallel processing and then compare the performance of both\n",
    "\n",
    "## 1. Sequential processing"
   ]
  },
  {
   "cell_type": "code",
   "execution_count": 20,
   "metadata": {
    "pycharm": {
     "is_executing": false
    }
   },
   "outputs": [],
   "source": [
    "from time import time"
   ]
  },
  {
   "cell_type": "code",
   "execution_count": 21,
   "metadata": {
    "pycharm": {
     "is_executing": false
    }
   },
   "outputs": [],
   "source": [
    "numbers = [15492781, 15492787, 15492803, \n",
    "           15492811, 15492810, 15492833, \n",
    "           15492859, 15502547, 15520301, 15527509]"
   ]
  },
  {
   "cell_type": "code",
   "execution_count": 22,
   "metadata": {
    "pycharm": {
     "is_executing": false
    }
   },
   "outputs": [
    {
     "name": "stdout",
     "text": [
      "15492781 is prime\n",
      "15492787 is prime\n",
      "15492803 is prime\n",
      "15492811 is prime\n15492810 is not prime\n",
      "15492833 is prime\n",
      "15492859 is prime\n",
      "15502547 is prime\n",
      "15520301 is prime\n",
      "15527509 is prime\nPerformance: 53.92851901054382\n"
     ],
     "output_type": "stream"
    }
   ],
   "source": [
    "def is_prime(number):\n",
    "    \"\"\"returns True if number \n",
    "    is prime, False otherwise\"\"\"\n",
    "    for i in range(2, number):\n",
    "        if number % i == 0:\n",
    "            return False\n",
    "    return True\n",
    "\n",
    "    \n",
    "if __name__ == \"__main__\":\n",
    "    start = time()\n",
    "    \n",
    "    for number in numbers:\n",
    "        if is_prime(number):\n",
    "            print(f\"{number} is prime\")\n",
    "        else:\n",
    "            print(f\"{number} is not prime\")\n",
    "                \n",
    "    t_seq = time()\n",
    "    print(f\"Performance: {t_seq-start}\")"
   ]
  },
  {
   "cell_type": "markdown",
   "metadata": {},
   "source": [
    "## 2. Parallel processing"
   ]
  },
  {
   "cell_type": "code",
   "execution_count": 23,
   "metadata": {
    "pycharm": {
     "is_executing": false
    }
   },
   "outputs": [],
   "source": [
    "from multiprocessing import Process, Queue, current_process\n",
    "from queue import Empty # exception to break from loop when the get(block=False) called on empty queue "
   ]
  },
  {
   "cell_type": "code",
   "execution_count": 28,
   "metadata": {
    "pycharm": {
     "is_executing": false
    }
   },
   "outputs": [
    {
     "name": "stdout",
     "text": [
      "hello\n"
     ],
     "output_type": "stream"
    }
   ],
   "source": [
    "def check_prime_worker(job_queue):\n",
    "    \"\"\"worker function passed as target to Process\"\"\"\n",
    "    while True:\n",
    "        # your code here\n",
    "        # 1. get next available number from queue\n",
    "        try:\n",
    "            number = job_queue.get(block=False)\n",
    "            print(f\"Process {current_process()} checks number {number}\")\n",
    "        except Empty:\n",
    "            break\n",
    "            \n",
    "        # 2. print the number and whether it\n",
    "        #    is prime or not, use is_prime()\n",
    "        if is_prime(number):\n",
    "            print(f\"{number} is prime\")\n",
    "        else:\n",
    "            print(f\"{number} is not prime\")\n",
    "            \n",
    "        # 3. use try/except to catch Empty exception \n",
    "        #    and quit the loop if no number remains in queue\n",
    "        #    done in step 1\n",
    "\n",
    "        \n",
    "# calculate if the numbers are prime or not\n",
    "# measure the performance of parallel processing\n",
    "if __name__ == \"__main__\":\n",
    "    print(\"hello\")\n",
    "    job_queue = Queue()\n",
    "    \n",
    "    t_par = []\n",
    "    \n",
    "    # number of workers \n",
    "    for N in range(1, len(numbers)+1):\n",
    "        # preparing the jobs to be done by workers\n",
    "        for number in numbers:\n",
    "            job_queue.put(number)\n",
    "\n",
    "        # your code here\n",
    "\n",
    "        # 1. create list of processes of N process. Choose N in range of [1:len(numbers)]\n",
    "        processes = [Process(target=check_prime_worker, args = (job_queue,)) for i in range(N)]\n",
    "\n",
    "        # 2. record the start time \n",
    "        start = time()\n",
    "        \n",
    "        # 3. start each of the processes\n",
    "        [p.start() for p in processes]\n",
    "\n",
    "        # 4. call join on each of the processes\n",
    "        [p.join() for p in processes]\n",
    "\n",
    "        # 5. measure the performance and append to the list of records\n",
    "        t_par.append(time()-start)\n",
    "        \n",
    "        # 6. close the processes\n",
    "        [p.close() for p in processes]"
   ]
  },
  {
   "cell_type": "markdown",
   "metadata": {},
   "source": [
    "Bonus points will be given if you show/print the name of the process that did calculation for given number (use current_process() from multiprocessing module) "
   ]
  },
  {
   "cell_type": "code",
   "execution_count": 29,
   "metadata": {
    "scrolled": true,
    "pycharm": {
     "is_executing": false
    }
   },
   "outputs": [
    {
     "name": "stdout",
     "text": [
      "[0.18399930000305176, 0.37199974060058594, 0.2010021209716797, 0.19899892807006836, 0.24900245666503906, 0.3079969882965088, 0.3900017738342285, 0.4239985942840576, 0.45399928092956543, 0.47500061988830566]\n"
     ],
     "output_type": "stream"
    }
   ],
   "source": [
    "print(t_par)"
   ]
  },
  {
   "cell_type": "markdown",
   "metadata": {},
   "source": [
    "## 3. Compare the performance of Sequential processing against Parallel processing \n",
    "Draw a simple 2D graph using matplotlib:\n",
    "- X axis should be number of processes from part 2, i.e., it should have values: 1, 2, 3,.., len(numbers)\n",
    "- Y axis should be ratio of \"time for sequential processing\" (t_seq) to a \"time for parallel processing\" (t_par[i-1]) when i processes are used.\n",
    "\n",
    "Explain the results in a few sentences and what factors can affect it?"
   ]
  },
  {
   "cell_type": "code",
   "execution_count": 30,
   "metadata": {
    "pycharm": {
     "is_executing": false
    }
   },
   "outputs": [
    {
     "data": {
      "text/plain": "<Figure size 432x288 with 1 Axes>",
      "image/png": "[encoded data removed]"
     },
     "metadata": {
      "needs_background": "light"
     },
     "output_type": "display_data"
    }
   ],
   "source": [
    "import matplotlib.pyplot as plt\n",
    "\n",
    "fig, ax = plt.subplots()\n",
    "y = list(map(lambda x: t_seq/x, t_par))\n",
    "ax.plot(range(1, len(numbers)+1), y)\n",
    "\n",
    "ax.set(xlabel='number of processes)', ylabel='time(s)',\n",
    "       title='Dependence of performance on number of processes')\n",
    "\n",
    "plt.show()"
   ]
  }
 ],
 "metadata": {
  "kernelspec": {
   "display_name": "Python 3",
   "language": "python",
   "name": "python3"
  },
  "language_info": {
   "codemirror_mode": {
    "name": "ipython",
    "version": 3
   },
   "file_extension": ".py",
   "mimetype": "text/x-python",
   "name": "python",
   "nbconvert_exporter": "python",
   "pygments_lexer": "ipython3",
   "version": "3.8.8"
  },
  "pycharm": {
   "stem_cell": {
    "cell_type": "raw",
    "source": [],
    "metadata": {
     "collapsed": false
    }
   }
  }
 },
 "nbformat": 4,
 "nbformat_minor": 4
}